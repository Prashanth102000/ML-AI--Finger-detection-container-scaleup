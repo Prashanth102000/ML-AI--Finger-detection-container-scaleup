{
 "cells": [
  {
   "cell_type": "code",
   "execution_count": 7,
   "metadata": {},
   "outputs": [],
   "source": [
    "#pip install cvzone\n",
    "#pip install mediapipe"
   ]
  },
  {
   "cell_type": "code",
   "execution_count": 8,
   "metadata": {},
   "outputs": [],
   "source": [
    "import cv2\n",
    "import urllib.request\n",
    "from cvzone.HandTrackingModule import HandDetector"
   ]
  },
  {
   "cell_type": "code",
   "execution_count": 9,
   "metadata": {},
   "outputs": [],
   "source": [
    "#gets the (Hand detection model) and assigned the result to 'detector' variable\n",
    "detector = HandDetector(maxHands=1,detectionCon=0.7)"
   ]
  },
  {
   "cell_type": "code",
   "execution_count": 12,
   "metadata": {},
   "outputs": [],
   "source": [
    "# cap variable hold the device camera request ON on multiple web camera devices in the system\n",
    "cap = cv2.VideoCapture(0)"
   ]
  },
  {
   "cell_type": "code",
   "execution_count": 5,
   "metadata": {},
   "outputs": [],
   "source": [
    "#Core of Hand finger detection using python"
   ]
  },
  {
   "cell_type": "code",
   "execution_count": 13,
   "metadata": {},
   "outputs": [
    {
     "name": "stdout",
     "output_type": "stream",
     "text": [
      "Initiall two fingers up\n",
      "b'{\"statusCode\": 200, \"body\": \"\\\\\"docker run OKK..!\\\\\"\"}'\n",
      "b'{\"statusCode\": 200, \"body\": \"\\\\\"docker run OKK..!\\\\\"\"}'\n",
      "All  fingers up\n",
      "b'{\"statusCode\": 200, \"body\": \"\\\\\"docker run OKK..!\\\\\"\"}'\n",
      "b'{\"statusCode\": 200, \"body\": \"\\\\\"docker run OKK..!\\\\\"\"}'\n",
      "b'{\"statusCode\": 200, \"body\": \"\\\\\"docker run OKK..!\\\\\"\"}'\n",
      "b'{\"statusCode\": 200, \"body\": \"\\\\\"docker run OKK..!\\\\\"\"}'\n",
      "b'{\"statusCode\": 200, \"body\": \"\\\\\"docker run OKK..!\\\\\"\"}'\n",
      "All  fingers up\n",
      "b'{\"statusCode\": 200, \"body\": \"\\\\\"docker run OKK..!\\\\\"\"}'\n",
      "b'{\"statusCode\": 200, \"body\": \"\\\\\"docker run OKK..!\\\\\"\"}'\n",
      "b'{\"statusCode\": 200, \"body\": \"\\\\\"docker run OKK..!\\\\\"\"}'\n",
      "b'{\"statusCode\": 200, \"body\": \"\\\\\"docker run OKK..!\\\\\"\"}'\n",
      "b'{\"statusCode\": 200, \"body\": \"\\\\\"docker run OKK..!\\\\\"\"}'\n",
      "Initiall two fingers up\n",
      "b'{\"statusCode\": 200, \"body\": \"\\\\\"docker run OKK..!\\\\\"\"}'\n",
      "b'{\"statusCode\": 200, \"body\": \"\\\\\"docker run OKK..!\\\\\"\"}'\n"
     ]
    }
   ],
   "source": [
    "while True:\n",
    "    ret, photo = cap.read()\n",
    "    hand = detector.findHands(photo,draw=False) #HAND empty photo  which leads to emty array reading\n",
    "    \n",
    "    if hand:\n",
    "        detecthand = hand[0]\n",
    "        if detecthand:\n",
    "            finger = detector.fingersUp(detecthand)\n",
    "            if finger == [0,1,1,0,0]:\n",
    "                print(\"Initiall two fingers up\")\n",
    "                for i in range(2):\n",
    "                    request_url =urllib.request.urlopen(\"https://buc34wqqd9.execute-api.ap-south-1.amazonaws.com/ai_ml/scaling\")\n",
    "                    print( request_url.read() )\n",
    "            elif finger == [0,1,1,1,0]:\n",
    "                print(\"Three  fingers up\")\n",
    "                for i in range(3):\n",
    "                    request_url =urllib.request.urlopen(\"https://buc34wqqd9.execute-api.ap-south-1.amazonaws.com/ai_ml/scaling\")\n",
    "                    print( request_url.read() )\n",
    "            elif finger == [1,1,1,1,1]:\n",
    "                print(\"All  fingers up\")\n",
    "                for i in range(5):\n",
    "                    request_url =urllib.request.urlopen(\"https://buc34wqqd9.execute-api.ap-south-1.amazonaws.com/ai_ml/scaling\")\n",
    "                    print( request_url.read() )\n",
    "        \n",
    "    \n",
    "    cv2.imshow(\"MY_PHOTO\",photo)\n",
    "    if cv2.waitKey(10) == 13:\n",
    "        break\n",
    "cv2.destroyAllWindows()\n",
    "cap.release()"
   ]
  },
  {
   "cell_type": "code",
   "execution_count": null,
   "metadata": {},
   "outputs": [],
   "source": []
  },
  {
   "cell_type": "code",
   "execution_count": null,
   "metadata": {},
   "outputs": [],
   "source": []
  },
  {
   "cell_type": "code",
   "execution_count": null,
   "metadata": {},
   "outputs": [],
   "source": []
  },
  {
   "cell_type": "code",
   "execution_count": null,
   "metadata": {},
   "outputs": [],
   "source": []
  },
  {
   "cell_type": "code",
   "execution_count": null,
   "metadata": {},
   "outputs": [],
   "source": []
  },
  {
   "cell_type": "code",
   "execution_count": null,
   "metadata": {},
   "outputs": [],
   "source": []
  },
  {
   "cell_type": "code",
   "execution_count": null,
   "metadata": {},
   "outputs": [],
   "source": []
  }
 ],
 "metadata": {
  "kernelspec": {
   "display_name": "Python 3",
   "language": "python",
   "name": "python3"
  },
  "language_info": {
   "codemirror_mode": {
    "name": "ipython",
    "version": 3
   },
   "file_extension": ".py",
   "mimetype": "text/x-python",
   "name": "python",
   "nbconvert_exporter": "python",
   "pygments_lexer": "ipython3",
   "version": "3.8.3"
  }
 },
 "nbformat": 4,
 "nbformat_minor": 4
}
